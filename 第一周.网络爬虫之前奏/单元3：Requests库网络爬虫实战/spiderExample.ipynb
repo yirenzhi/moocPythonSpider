{
 "cells": [
  {
   "cell_type": "markdown",
   "metadata": {},
   "source": [
    "1. 京东商品页面爬取\n",
    "2. 亚马逊商品页面爬取\n",
    "3. 百度/360搜索关键字提交\n",
    "4. 网络图片的爬取和存储\n",
    "5. IP地址归属地自动查询\n",
    "\n",
    "### 1.京东商品页面爬取"
   ]
  },
  {
   "cell_type": "code",
   "execution_count": 2,
   "metadata": {},
   "outputs": [],
   "source": [
    "import requests\n",
    "def getHtml(url):\n",
    "    try:\n",
    "        r=requests.get(url,timeout=30)\n",
    "        r.raise_for_status()\n",
    "        r.encoding=r.apparent_encoding\n",
    "        return r.status_code\n",
    "    except:\n",
    "        return(\"爬取失败\")"
   ]
  },
  {
   "cell_type": "code",
   "execution_count": 3,
   "metadata": {},
   "outputs": [
    {
     "name": "stdout",
     "output_type": "stream",
     "text": [
      "200\n"
     ]
    }
   ],
   "source": [
    "url=\"https://item.jd.com/2967929.html\"\n",
    "print(getHtml(url))"
   ]
  },
  {
   "cell_type": "markdown",
   "metadata": {},
   "source": [
    "### 2. 亚马逊商品页面爬取"
   ]
  },
  {
   "cell_type": "code",
   "execution_count": 4,
   "metadata": {},
   "outputs": [
    {
     "name": "stdout",
     "output_type": "stream",
     "text": [
      "爬取失败\n"
     ]
    }
   ],
   "source": [
    "url=\"https://www.amazon.cn/gp/product/B01M8L5Z3Y\"\n",
    "print(getHtml(url))"
   ]
  },
  {
   "cell_type": "markdown",
   "metadata": {},
   "source": [
    "#### 修改头文件，使网站认为爬虫是网站访问"
   ]
  },
  {
   "cell_type": "code",
   "execution_count": 5,
   "metadata": {},
   "outputs": [],
   "source": [
    "def getHtml1(url):\n",
    "    try:\n",
    "        r=requests.get(url,timeout=30,headers={'user-agent':'Mozilla/5.0'})\n",
    "        r.raise_for_status()\n",
    "        r.encoding=r.apparent_encoding\n",
    "        return r.status_code\n",
    "    except:\n",
    "        return(\"爬取失败\")"
   ]
  },
  {
   "cell_type": "code",
   "execution_count": 6,
   "metadata": {},
   "outputs": [
    {
     "name": "stdout",
     "output_type": "stream",
     "text": [
      "200\n"
     ]
    }
   ],
   "source": [
    "url=\"https://www.amazon.cn/gp/product/B01M8L5Z3Y\"\n",
    "print(getHtml1(url))"
   ]
  },
  {
   "cell_type": "markdown",
   "metadata": {},
   "source": [
    "### 3. 百度/360搜索关键字提交  \n",
    "百度关键字接口：  \n",
    "http://www.baidu.com/s?wd=keyword\n",
    "360关键接口：  \n",
    "http://www.so.com/s?q=keyword"
   ]
  },
  {
   "cell_type": "code",
   "execution_count": 9,
   "metadata": {},
   "outputs": [],
   "source": [
    "def getHtml3(url):\n",
    "    try:\n",
    "        kv={'wd':'python'}\n",
    "        r=requests.get(url,params=kv,timeout=30)\n",
    "        r.raise_for_status()\n",
    "        r.encoding=r.apparent_encoding\n",
    "        return r.status_code\n",
    "    except:\n",
    "        return(\"爬取失败\")"
   ]
  },
  {
   "cell_type": "code",
   "execution_count": 10,
   "metadata": {},
   "outputs": [
    {
     "data": {
      "text/plain": [
       "200"
      ]
     },
     "execution_count": 10,
     "metadata": {},
     "output_type": "execute_result"
    }
   ],
   "source": [
    "getHtml3('http://www.baidu.com/s')"
   ]
  },
  {
   "cell_type": "code",
   "execution_count": 11,
   "metadata": {},
   "outputs": [],
   "source": [
    "def getHtml31(url):\n",
    "    try:\n",
    "        kv={'q':'python'}\n",
    "        r=requests.get(url,params=kv,timeout=30)\n",
    "        r.raise_for_status()\n",
    "        r.encoding=r.apparent_encoding\n",
    "        return r.status_code\n",
    "    except:\n",
    "        return(\"爬取失败\")"
   ]
  },
  {
   "cell_type": "code",
   "execution_count": 12,
   "metadata": {},
   "outputs": [
    {
     "data": {
      "text/plain": [
       "200"
      ]
     },
     "execution_count": 12,
     "metadata": {},
     "output_type": "execute_result"
    }
   ],
   "source": [
    "getHtml31('http://www.so.com/s')"
   ]
  },
  {
   "cell_type": "markdown",
   "metadata": {},
   "source": [
    "### 4. 网络图片的爬取和存储 "
   ]
  },
  {
   "cell_type": "code",
   "execution_count": 17,
   "metadata": {},
   "outputs": [],
   "source": [
    "#下载图片\n",
    "import os\n",
    "import re\n",
    "def downPic(pic_url,root='pic'):\n",
    "    path=root+re.search( r'\\w*_t.jpg', pic_url).group()\n",
    "    if not os.path.exists(root):\n",
    "        os.mkdir(root)\n",
    "    if os.path.exists(path):\n",
    "        print('文件已存在！')\n",
    "        return\n",
    "    try:\n",
    "        pic= requests.get(pic_url, timeout=10)\n",
    "        with open(path,'wb') as f:\n",
    "            f.write(pic.content)\n",
    "    except requests.exceptions.ConnectionError:\n",
    "        print('【错误】当前图片无法下载')"
   ]
  },
  {
   "cell_type": "code",
   "execution_count": 16,
   "metadata": {},
   "outputs": [
    {
     "data": {
      "text/plain": [
       "'5e9817e9973c35i20842721_t.jpg'"
      ]
     },
     "execution_count": 16,
     "metadata": {},
     "output_type": "execute_result"
    }
   ],
   "source": [
    "import re\n",
    "pic='http://img0.dili360.com/pic/2020/04/16/5e9817e9973c35i20842721_t.jpg@!rw9'\n",
    "re.search( r'\\w*_t.jpg', pic).group()"
   ]
  },
  {
   "cell_type": "code",
   "execution_count": 19,
   "metadata": {},
   "outputs": [
    {
     "name": "stdout",
     "output_type": "stream",
     "text": [
      "文件已存在！\n"
     ]
    }
   ],
   "source": [
    "downPic(pic,\"D://pics//\")"
   ]
  },
  {
   "cell_type": "markdown",
   "metadata": {},
   "source": [
    "### 5. IP地址归属地自动查询  \n",
    "比较简单，就不再记录了"
   ]
  },
  {
   "cell_type": "code",
   "execution_count": null,
   "metadata": {},
   "outputs": [],
   "source": []
  }
 ],
 "metadata": {
  "kernelspec": {
   "display_name": "Python 3",
   "language": "python",
   "name": "python3"
  },
  "language_info": {
   "codemirror_mode": {
    "name": "ipython",
    "version": 3
   },
   "file_extension": ".py",
   "mimetype": "text/x-python",
   "name": "python",
   "nbconvert_exporter": "python",
   "pygments_lexer": "ipython3",
   "version": "3.6.5"
  }
 },
 "nbformat": 4,
 "nbformat_minor": 2
}
